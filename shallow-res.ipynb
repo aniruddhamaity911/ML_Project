{
 "cells": [
  {
   "cell_type": "markdown",
   "metadata": {
    "papermill": {
     "duration": 0.018507,
     "end_time": "2020-11-20T15:12:10.206475",
     "exception": false,
     "start_time": "2020-11-20T15:12:10.187968",
     "status": "completed"
    },
    "tags": []
   },
   "source": [
    "# Import Libraries"
   ]
  },
  {
   "cell_type": "code",
   "execution_count": 1,
   "metadata": {
    "execution": {
     "iopub.execute_input": "2020-11-20T15:12:10.246131Z",
     "iopub.status.busy": "2020-11-20T15:12:10.245504Z",
     "iopub.status.idle": "2020-11-20T15:12:15.395451Z",
     "shell.execute_reply": "2020-11-20T15:12:15.396694Z"
    },
    "papermill": {
     "duration": 5.174566,
     "end_time": "2020-11-20T15:12:15.396935",
     "exception": false,
     "start_time": "2020-11-20T15:12:10.222369",
     "status": "completed"
    },
    "tags": []
   },
   "outputs": [],
   "source": [
    "import os\n",
    "import numpy as np\n",
    "import pandas as pd\n",
    "import tensorflow as tf\n",
    "import tensorflow.keras as keras\n",
    "import tensorflow.keras.layers as layers\n",
    "from tensorflow.keras import initializers\n",
    "import tensorflow.keras.backend as K\n",
    "from sklearn.pipeline import Pipeline\n",
    "from sklearn.preprocessing import OneHotEncoder,StandardScaler\n",
    "from sklearn.base import BaseEstimator, TransformerMixin\n",
    "from sklearn.compose import ColumnTransformer\n",
    "from tensorflow.keras.wrappers.scikit_learn import KerasClassifier\n",
    "from sklearn.model_selection import GridSearchCV,cross_val_score"
   ]
  },
  {
   "cell_type": "markdown",
   "metadata": {
    "papermill": {
     "duration": 0.024082,
     "end_time": "2020-11-20T15:12:15.448644",
     "exception": false,
     "start_time": "2020-11-20T15:12:15.424562",
     "status": "completed"
    },
    "tags": []
   },
   "source": [
    "# Set Environment"
   ]
  },
  {
   "cell_type": "code",
   "execution_count": 2,
   "metadata": {
    "execution": {
     "iopub.execute_input": "2020-11-20T15:12:16.383869Z",
     "iopub.status.busy": "2020-11-20T15:12:16.379133Z",
     "iopub.status.idle": "2020-11-20T15:12:16.395008Z",
     "shell.execute_reply": "2020-11-20T15:12:16.394489Z"
    },
    "papermill": {
     "duration": 0.913826,
     "end_time": "2020-11-20T15:12:16.395117",
     "exception": false,
     "start_time": "2020-11-20T15:12:15.481291",
     "status": "completed"
    },
    "tags": []
   },
   "outputs": [
    {
     "name": "stdout",
     "output_type": "stream",
     "text": [
      "Num GPUs Available:  1\n"
     ]
    },
    {
     "data": {
      "text/plain": [
       "[PhysicalDevice(name='/physical_device:GPU:0', device_type='GPU')]"
      ]
     },
     "execution_count": 2,
     "metadata": {},
     "output_type": "execute_result"
    }
   ],
   "source": [
    "os.environ['TF_CPP_MIN_LOG_LEVEL'] = '2'\n",
    "print(\"Num GPUs Available: \", len(tf.config.experimental.list_physical_devices('GPU')))\n",
    "tf.config.experimental.list_physical_devices('GPU') "
   ]
  },
  {
   "cell_type": "markdown",
   "metadata": {
    "papermill": {
     "duration": 0.017325,
     "end_time": "2020-11-20T15:12:16.431059",
     "exception": false,
     "start_time": "2020-11-20T15:12:16.413734",
     "status": "completed"
    },
    "tags": []
   },
   "source": [
    "# Data-set Loading"
   ]
  },
  {
   "cell_type": "code",
   "execution_count": 2,
   "metadata": {
    "execution": {
     "iopub.execute_input": "2020-11-20T15:12:16.482759Z",
     "iopub.status.busy": "2020-11-20T15:12:16.481815Z",
     "iopub.status.idle": "2020-11-20T15:12:21.919429Z",
     "shell.execute_reply": "2020-11-20T15:12:21.918355Z"
    },
    "papermill": {
     "duration": 5.468078,
     "end_time": "2020-11-20T15:12:21.919550",
     "exception": false,
     "start_time": "2020-11-20T15:12:16.451472",
     "status": "completed"
    },
    "tags": []
   },
   "outputs": [],
   "source": [
    "df_train = pd.read_csv('train_features.csv')\n",
    "df_test = pd.read_csv('test_features.csv')\n",
    "df_train_terget = pd.read_csv(\"train_targets_scored.csv\")"
   ]
  },
  {
   "cell_type": "code",
   "execution_count": 3,
   "metadata": {
    "execution": {
     "iopub.execute_input": "2020-11-20T15:12:21.964800Z",
     "iopub.status.busy": "2020-11-20T15:12:21.963490Z",
     "iopub.status.idle": "2020-11-20T15:12:22.183790Z",
     "shell.execute_reply": "2020-11-20T15:12:22.183197Z"
    },
    "papermill": {
     "duration": 0.247307,
     "end_time": "2020-11-20T15:12:22.183908",
     "exception": false,
     "start_time": "2020-11-20T15:12:21.936601",
     "status": "completed"
    },
    "tags": []
   },
   "outputs": [],
   "source": [
    "train = pd.merge(df_train,df_train_terget, how='inner',on='sig_id')\n",
    "X_train = train[df_train.columns[1:]]\n",
    "Y_train = train[df_train_terget.columns[1:]]"
   ]
  },
  {
   "cell_type": "markdown",
   "metadata": {
    "papermill": {
     "duration": 0.016516,
     "end_time": "2020-11-20T15:12:22.217483",
     "exception": false,
     "start_time": "2020-11-20T15:12:22.200967",
     "status": "completed"
    },
    "tags": []
   },
   "source": [
    "# DATA Pre-Processing"
   ]
  },
  {
   "cell_type": "code",
   "execution_count": 15,
   "metadata": {
    "execution": {
     "iopub.execute_input": "2020-11-20T15:12:22.311611Z",
     "iopub.status.busy": "2020-11-20T15:12:22.310626Z",
     "iopub.status.idle": "2020-11-20T15:12:24.523798Z",
     "shell.execute_reply": "2020-11-20T15:12:24.523240Z"
    },
    "papermill": {
     "duration": 2.289227,
     "end_time": "2020-11-20T15:12:24.523907",
     "exception": false,
     "start_time": "2020-11-20T15:12:22.234680",
     "status": "completed"
    },
    "tags": []
   },
   "outputs": [],
   "source": [
    "num_cols = list(df_train.describe().columns)\n",
    "\n",
    "non_num_cols = [ ]\n",
    "for i in df_train.columns[1:]:\n",
    "    if i not in num_cols:\n",
    "        non_num_cols.append(i)\n",
    "\n",
    "# for i in non_num_cols:\n",
    "#        print(df_train[i].value_counts())"
   ]
  },
  {
   "cell_type": "code",
   "execution_count": 16,
   "metadata": {
    "execution": {
     "iopub.execute_input": "2020-11-20T15:12:24.563022Z",
     "iopub.status.busy": "2020-11-20T15:12:24.562393Z",
     "iopub.status.idle": "2020-11-20T15:12:24.566387Z",
     "shell.execute_reply": "2020-11-20T15:12:24.565901Z"
    },
    "papermill": {
     "duration": 0.02529,
     "end_time": "2020-11-20T15:12:24.566477",
     "exception": false,
     "start_time": "2020-11-20T15:12:24.541187",
     "status": "completed"
    },
    "tags": []
   },
   "outputs": [],
   "source": [
    " columns = [i for i in range(877)]"
   ]
  },
  {
   "cell_type": "code",
   "execution_count": 17,
   "metadata": {
    "execution": {
     "iopub.execute_input": "2020-11-20T15:12:24.607894Z",
     "iopub.status.busy": "2020-11-20T15:12:24.606156Z",
     "iopub.status.idle": "2020-11-20T15:12:24.608604Z",
     "shell.execute_reply": "2020-11-20T15:12:24.609124Z"
    },
    "papermill": {
     "duration": 0.025443,
     "end_time": "2020-11-20T15:12:24.609237",
     "exception": false,
     "start_time": "2020-11-20T15:12:24.583794",
     "status": "completed"
    },
    "tags": []
   },
   "outputs": [],
   "source": [
    "columns_transformer1 = ColumnTransformer(\n",
    "    transformers=[\n",
    "        ('encoder',OneHotEncoder(sparse=False),non_num_cols)\n",
    "    ],\n",
    "    remainder='passthrough'\n",
    "    )\n",
    "columns_transformer2 = ColumnTransformer(\n",
    "    transformers=[\n",
    "        ('nomalizer',StandardScaler(),columns)\n",
    "    ],\n",
    "    remainder='passthrough'\n",
    "    )"
   ]
  },
  {
   "cell_type": "markdown",
   "metadata": {
    "papermill": {
     "duration": 0.01724,
     "end_time": "2020-11-20T15:12:24.727739",
     "exception": false,
     "start_time": "2020-11-20T15:12:24.710499",
     "status": "completed"
    },
    "tags": []
   },
   "source": [
    "# Construct Model"
   ]
  },
  {
   "cell_type": "code",
   "execution_count": 28,
   "metadata": {
    "execution": {
     "iopub.execute_input": "2020-11-20T15:12:24.769146Z",
     "iopub.status.busy": "2020-11-20T15:12:24.768398Z",
     "iopub.status.idle": "2020-11-20T15:12:24.772375Z",
     "shell.execute_reply": "2020-11-20T15:12:24.771841Z"
    },
    "papermill": {
     "duration": 0.027375,
     "end_time": "2020-11-20T15:12:24.772468",
     "exception": false,
     "start_time": "2020-11-20T15:12:24.745093",
     "status": "completed"
    },
    "tags": []
   },
   "outputs": [],
   "source": [
    "num_class = 206\n",
    "input_shape = 877\n",
    "l_rate = 0.01\n",
    "batch_size = 64\n",
    "fully_connected_units=[1024,512]\n",
    "kernel_initializer = initializers.GlorotNormal()\n",
    "bias_initializer = initializers.Zeros()\n",
    "l2_regulizer = keras.regularizers.l2()\n",
    "l1_regulaizer = keras.regularizers.l1()"
   ]
  },
  {
   "cell_type": "code",
   "execution_count": 29,
   "metadata": {
    "execution": {
     "iopub.execute_input": "2020-11-20T15:12:24.816441Z",
     "iopub.status.busy": "2020-11-20T15:12:24.815115Z",
     "iopub.status.idle": "2020-11-20T15:12:24.817800Z",
     "shell.execute_reply": "2020-11-20T15:12:24.818303Z"
    },
    "papermill": {
     "duration": 0.028023,
     "end_time": "2020-11-20T15:12:24.818427",
     "exception": false,
     "start_time": "2020-11-20T15:12:24.790404",
     "status": "completed"
    },
    "tags": []
   },
   "outputs": [],
   "source": [
    "p_min = 0.001\n",
    "p_max = 0.999\n",
    "def logloss(y_true,y_pred):\n",
    "    y_pred = tf.clip_by_value(y_pred,p_min,p_max)\n",
    "    return -K.mean(y_true*K.log(y_pred) + (1-y_true)*K.log(1-y_pred))\n",
    "\n",
    "        "
   ]
  },
  {
   "cell_type": "code",
   "execution_count": 30,
   "metadata": {
    "execution": {
     "iopub.execute_input": "2020-11-20T15:12:24.867887Z",
     "iopub.status.busy": "2020-11-20T15:12:24.866134Z",
     "iopub.status.idle": "2020-11-20T15:12:24.868681Z",
     "shell.execute_reply": "2020-11-20T15:12:24.869144Z"
    },
    "papermill": {
     "duration": 0.031833,
     "end_time": "2020-11-20T15:12:24.869259",
     "exception": false,
     "start_time": "2020-11-20T15:12:24.837426",
     "status": "completed"
    },
    "tags": []
   },
   "outputs": [],
   "source": [
    "def MyModel(optimizer=keras.optimizers.Adam,l_rate=1e-3,inter_activation='relu'):\n",
    "    '''\n",
    "    args:\n",
    "            optimizer : keras optimizers\n",
    "            l_rate : learning rate\n",
    "            inter_activation : activation fuction applied in hidden layer\n",
    "    '''\n",
    "    \n",
    "    inputs = layers.Input(shape=(877))\n",
    "    x = inputs\n",
    "    x1 = layers.Dense(units=1024,activation=inter_activation)(x)\n",
    "    x2 = layers.Dense(units=2048,activation=inter_activation)(x1)\n",
    "    x3 = layers.Dense(units=1024,activation=inter_activation)(x2)\n",
    "    x = layers.BatchNormalization()(x3)\n",
    "    y = layers.Dense(kernel_regularizer=l2_regulizer,units=num_class,activation='sigmoid')(x)    \n",
    "    model = keras.Model(inputs=inputs,outputs=y)\n",
    "    model.compile(optimizer=optimizer(l_rate),loss=keras.losses.BinaryCrossentropy(),metrics=['binary_crossentropy'],)\n",
    "    \n",
    "    return model"
   ]
  },
  {
   "cell_type": "code",
   "execution_count": 31,
   "metadata": {
    "execution": {
     "iopub.execute_input": "2020-11-20T15:12:24.909529Z",
     "iopub.status.busy": "2020-11-20T15:12:24.908948Z",
     "iopub.status.idle": "2020-11-20T15:12:24.913388Z",
     "shell.execute_reply": "2020-11-20T15:12:24.912840Z"
    },
    "papermill": {
     "duration": 0.026436,
     "end_time": "2020-11-20T15:12:24.913481",
     "exception": false,
     "start_time": "2020-11-20T15:12:24.887045",
     "status": "completed"
    },
    "tags": []
   },
   "outputs": [],
   "source": [
    "preprocessor = Pipeline(steps=\n",
    "                     [\n",
    "                         ('encoder',columns_transformer1),\n",
    "                         ('normalizer',columns_transformer2)\n",
    "                     ])"
   ]
  },
  {
   "cell_type": "code",
   "execution_count": 32,
   "metadata": {
    "execution": {
     "iopub.execute_input": "2020-11-20T15:12:24.958253Z",
     "iopub.status.busy": "2020-11-20T15:12:24.956655Z",
     "iopub.status.idle": "2020-11-20T15:12:24.959315Z",
     "shell.execute_reply": "2020-11-20T15:12:24.959814Z"
    },
    "papermill": {
     "duration": 0.028449,
     "end_time": "2020-11-20T15:12:24.959923",
     "exception": false,
     "start_time": "2020-11-20T15:12:24.931474",
     "status": "completed"
    },
    "tags": []
   },
   "outputs": [],
   "source": [
    "def train_test_model(X_train,Y_train,batch_size=32,epochs=10,validation_split=0.1,call_backs=None,\n",
    "                     optimizer=keras.optimizers.Adam,l_rate=1e-3,inter_activation='selu',**args):\n",
    "    '''\n",
    "    args:\n",
    "            X_train: X\n",
    "            Y_train: labels\n",
    "            batch_size: size of the batch(defalut 32)\n",
    "            epochs: number of epochs to be trained\n",
    "            validation_split : fraction of validation set from X_train\n",
    "            call_backs : callbacks\n",
    "            optimizer : keras optimizers\n",
    "            l_rate : learning rate\n",
    "            inter_activation : activation fuction applied in hidden layer\n",
    "            **agrs: any other param for fit method\n",
    "    '''\n",
    "    model = MyModel(optimizer=optimizer,l_rate=l_rate,inter_activation=inter_activation)\n",
    "    history = model.fit(X_train,Y_train,batch_size=batch_size,epochs=epochs,validation_split=validation_split,\n",
    "                        callbacks=call_backs,**args)\n",
    "    \n",
    "    return history,model        "
   ]
  },
  {
   "cell_type": "code",
   "execution_count": 33,
   "metadata": {
    "_kg_hide-output": true,
    "execution": {
     "iopub.execute_input": "2020-11-20T15:12:25.012610Z",
     "iopub.status.busy": "2020-11-20T15:12:25.004361Z",
     "iopub.status.idle": "2020-11-20T15:13:20.559886Z",
     "shell.execute_reply": "2020-11-20T15:13:20.560471Z"
    },
    "papermill": {
     "duration": 55.582162,
     "end_time": "2020-11-20T15:13:20.560680",
     "exception": false,
     "start_time": "2020-11-20T15:12:24.978518",
     "status": "completed"
    },
    "tags": []
   },
   "outputs": [
    {
     "name": "stdout",
     "output_type": "stream",
     "text": [
      "Epoch 1/100\n",
      "670/670 - 28s - loss: 0.3733 - binary_crossentropy: 0.1853 - val_loss: 0.1339 - val_binary_crossentropy: 0.0664\n",
      "Epoch 2/100\n",
      "670/670 - 31s - loss: 0.1070 - binary_crossentropy: 0.0534 - val_loss: 0.0860 - val_binary_crossentropy: 0.0423\n",
      "Epoch 3/100\n",
      "670/670 - 28s - loss: 0.0760 - binary_crossentropy: 0.0387 - val_loss: 0.0660 - val_binary_crossentropy: 0.0340\n",
      "Epoch 4/100\n",
      "670/670 - 30s - loss: 0.0604 - binary_crossentropy: 0.0320 - val_loss: 0.0552 - val_binary_crossentropy: 0.0304\n",
      "Epoch 5/100\n",
      "670/670 - 28s - loss: 0.0507 - binary_crossentropy: 0.0281 - val_loss: 0.0466 - val_binary_crossentropy: 0.0271\n",
      "Epoch 6/100\n",
      "670/670 - 30s - loss: 0.0439 - binary_crossentropy: 0.0255 - val_loss: 0.0409 - val_binary_crossentropy: 0.0241\n",
      "Epoch 7/100\n",
      "670/670 - 26s - loss: 0.0388 - binary_crossentropy: 0.0236 - val_loss: 0.0372 - val_binary_crossentropy: 0.0238\n",
      "Epoch 8/100\n",
      "670/670 - 27s - loss: 0.0350 - binary_crossentropy: 0.0222 - val_loss: 0.0336 - val_binary_crossentropy: 0.0220\n",
      "Epoch 9/100\n",
      "670/670 - 31s - loss: 0.0320 - binary_crossentropy: 0.0211 - val_loss: 0.0306 - val_binary_crossentropy: 0.0204\n",
      "Epoch 10/100\n",
      "670/670 - 28s - loss: 0.0297 - binary_crossentropy: 0.0203 - val_loss: 0.0293 - val_binary_crossentropy: 0.0206\n",
      "Epoch 11/100\n",
      "670/670 - 28s - loss: 0.0279 - binary_crossentropy: 0.0196 - val_loss: 0.0276 - val_binary_crossentropy: 0.0199\n",
      "Epoch 12/100\n",
      "670/670 - 28s - loss: 0.0263 - binary_crossentropy: 0.0189 - val_loss: 0.0256 - val_binary_crossentropy: 0.0189\n",
      "Epoch 13/100\n",
      "670/670 - 28s - loss: 0.0251 - binary_crossentropy: 0.0184 - val_loss: 0.0259 - val_binary_crossentropy: 0.0192\n",
      "Epoch 14/100\n",
      "670/670 - 28s - loss: 0.0240 - binary_crossentropy: 0.0178 - val_loss: 0.0253 - val_binary_crossentropy: 0.0193\n",
      "Epoch 15/100\n",
      "670/670 - 29s - loss: 0.0231 - binary_crossentropy: 0.0172 - val_loss: 0.0245 - val_binary_crossentropy: 0.0190\n",
      "Epoch 16/100\n",
      "670/670 - 27s - loss: 0.0222 - binary_crossentropy: 0.0166 - val_loss: 0.0246 - val_binary_crossentropy: 0.0188\n",
      "Epoch 17/100\n",
      "670/670 - 28s - loss: 0.0215 - binary_crossentropy: 0.0161 - val_loss: 0.0239 - val_binary_crossentropy: 0.0184\n",
      "Epoch 18/100\n",
      "670/670 - 32s - loss: 0.0207 - binary_crossentropy: 0.0156 - val_loss: 0.0236 - val_binary_crossentropy: 0.0189\n",
      "Epoch 19/100\n",
      "670/670 - 28s - loss: 0.0201 - binary_crossentropy: 0.0151 - val_loss: 0.0235 - val_binary_crossentropy: 0.0181\n",
      "Epoch 20/100\n",
      "670/670 - 28s - loss: 0.0195 - binary_crossentropy: 0.0145 - val_loss: 0.0230 - val_binary_crossentropy: 0.0184\n",
      "Epoch 21/100\n",
      "670/670 - 28s - loss: 0.0191 - binary_crossentropy: 0.0141 - val_loss: 0.0231 - val_binary_crossentropy: 0.0184\n",
      "Epoch 22/100\n",
      "670/670 - 28s - loss: 0.0185 - binary_crossentropy: 0.0136 - val_loss: 0.0230 - val_binary_crossentropy: 0.0181\n",
      "Epoch 23/100\n",
      "670/670 - 30s - loss: 0.0178 - binary_crossentropy: 0.0131 - val_loss: 0.0220 - val_binary_crossentropy: 0.0176\n",
      "Epoch 24/100\n",
      "670/670 - 25s - loss: 0.0175 - binary_crossentropy: 0.0126 - val_loss: 0.0230 - val_binary_crossentropy: 0.0180\n",
      "Epoch 25/100\n",
      "670/670 - 25s - loss: 0.0171 - binary_crossentropy: 0.0122 - val_loss: 0.0227 - val_binary_crossentropy: 0.0181\n",
      "Epoch 26/100\n",
      "670/670 - 24s - loss: 0.0167 - binary_crossentropy: 0.0118 - val_loss: 0.0219 - val_binary_crossentropy: 0.0174\n",
      "Epoch 27/100\n",
      "670/670 - 25s - loss: 0.0162 - binary_crossentropy: 0.0113 - val_loss: 0.0225 - val_binary_crossentropy: 0.0175\n",
      "Epoch 28/100\n",
      "670/670 - 25s - loss: 0.0159 - binary_crossentropy: 0.0109 - val_loss: 0.0231 - val_binary_crossentropy: 0.0180\n",
      "Epoch 29/100\n",
      "670/670 - 24s - loss: 0.0155 - binary_crossentropy: 0.0106 - val_loss: 0.0223 - val_binary_crossentropy: 0.0175\n"
     ]
    }
   ],
   "source": [
    "callback = tf.keras.callbacks.EarlyStopping(patience=3)\n",
    "X = preprocessor.fit_transform(X_train)\n",
    "history,model = train_test_model(X,Y_train,call_backs=[callback],inter_activation='relu',epochs=100,**{'verbose':2})"
   ]
  },
  {
   "cell_type": "code",
   "execution_count": 34,
   "metadata": {
    "execution": {
     "iopub.execute_input": "2020-11-20T15:13:20.635429Z",
     "iopub.status.busy": "2020-11-20T15:13:20.634795Z",
     "iopub.status.idle": "2020-11-20T15:13:20.638558Z",
     "shell.execute_reply": "2020-11-20T15:13:20.639218Z"
    },
    "papermill": {
     "duration": 0.043123,
     "end_time": "2020-11-20T15:13:20.639343",
     "exception": false,
     "start_time": "2020-11-20T15:13:20.596220",
     "status": "completed"
    },
    "tags": []
   },
   "outputs": [],
   "source": [
    "import matplotlib.pyplot as plt"
   ]
  },
  {
   "cell_type": "code",
   "execution_count": 35,
   "metadata": {
    "execution": {
     "iopub.execute_input": "2020-11-20T15:13:20.715057Z",
     "iopub.status.busy": "2020-11-20T15:13:20.714433Z",
     "iopub.status.idle": "2020-11-20T15:13:20.934303Z",
     "shell.execute_reply": "2020-11-20T15:13:20.933433Z"
    },
    "papermill": {
     "duration": 0.259195,
     "end_time": "2020-11-20T15:13:20.934426",
     "exception": false,
     "start_time": "2020-11-20T15:13:20.675231",
     "status": "completed"
    },
    "tags": []
   },
   "outputs": [
    {
     "data": {
      "image/png": "[encoded data removed]",
      "text/plain": [
       "<Figure size 432x288 with 1 Axes>"
      ]
     },
     "metadata": {
      "needs_background": "light"
     },
     "output_type": "display_data"
    }
   ],
   "source": [
    "plt.figure()\n",
    "plt.plot(history.history['loss'])\n",
    "plt.plot(history.history['val_loss'])\n",
    "plt.legend(['Training Loss', 'Validation Loss'])\n",
    "plt.show()"
   ]
  },
  {
   "cell_type": "code",
   "execution_count": 36,
   "metadata": {
    "execution": {
     "iopub.execute_input": "2020-11-20T15:13:21.023907Z",
     "iopub.status.busy": "2020-11-20T15:13:21.022919Z",
     "iopub.status.idle": "2020-11-20T15:13:21.035407Z",
     "shell.execute_reply": "2020-11-20T15:13:21.034833Z"
    },
    "papermill": {
     "duration": 0.061515,
     "end_time": "2020-11-20T15:13:21.035519",
     "exception": false,
     "start_time": "2020-11-20T15:13:20.974004",
     "status": "completed"
    },
    "tags": []
   },
   "outputs": [
    {
     "name": "stdout",
     "output_type": "stream",
     "text": [
      "Model: \"model\"\n",
      "_________________________________________________________________\n",
      "Layer (type)                 Output Shape              Param #   \n",
      "=================================================================\n",
      "input_3 (InputLayer)         [(None, 877)]             0         \n",
      "_________________________________________________________________\n",
      "dense_6 (Dense)              (None, 1024)              899072    \n",
      "_________________________________________________________________\n",
      "dense_7 (Dense)              (None, 2048)              2099200   \n",
      "_________________________________________________________________\n",
      "dense_8 (Dense)              (None, 1024)              2098176   \n",
      "_________________________________________________________________\n",
      "batch_normalization_2 (Batch (None, 1024)              4096      \n",
      "_________________________________________________________________\n",
      "dense_9 (Dense)              (None, 206)               211150    \n",
      "=================================================================\n",
      "Total params: 5,311,694\n",
      "Trainable params: 5,309,646\n",
      "Non-trainable params: 2,048\n",
      "_________________________________________________________________\n"
     ]
    }
   ],
   "source": [
    "model.summary()"
   ]
  },
  {
   "cell_type": "code",
   "execution_count": null,
   "metadata": {
    "papermill": {
     "duration": 0.037267,
     "end_time": "2020-11-20T15:13:23.973475",
     "exception": false,
     "start_time": "2020-11-20T15:13:23.936208",
     "status": "completed"
    },
    "tags": []
   },
   "outputs": [],
   "source": []
  }
 ],
 "metadata": {
  "kernelspec": {
   "display_name": "Python 3",
   "language": "python",
   "name": "python3"
  },
  "language_info": {
   "codemirror_mode": {
    "name": "ipython",
    "version": 3
   },
   "file_extension": ".py",
   "mimetype": "text/x-python",
   "name": "python",
   "nbconvert_exporter": "python",
   "pygments_lexer": "ipython3",
   "version": "3.8.10"
  },
  "papermill": {
   "duration": 78.678141,
   "end_time": "2020-11-20T15:13:25.073769",
   "environment_variables": {},
   "exception": null,
   "input_path": "__notebook__.ipynb",
   "output_path": "__notebook__.ipynb",
   "parameters": {},
   "start_time": "2020-11-20T15:12:06.395628",
   "version": "2.1.0"
  }
 },
 "nbformat": 4,
 "nbformat_minor": 4
}
