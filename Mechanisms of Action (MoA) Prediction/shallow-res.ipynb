{
 "cells": [
  {
   "cell_type": "markdown",
   "metadata": {
    "papermill": {
     "duration": 0.018507,
     "end_time": "2020-11-20T15:12:10.206475",
     "exception": false,
     "start_time": "2020-11-20T15:12:10.187968",
     "status": "completed"
    },
    "tags": []
   },
   "source": [
    "# Import Libraries"
   ]
  },
  {
   "cell_type": "code",
   "execution_count": 1,
   "metadata": {
    "execution": {
     "iopub.execute_input": "2020-11-20T15:12:10.246131Z",
     "iopub.status.busy": "2020-11-20T15:12:10.245504Z",
     "iopub.status.idle": "2020-11-20T15:12:15.395451Z",
     "shell.execute_reply": "2020-11-20T15:12:15.396694Z"
    },
    "papermill": {
     "duration": 5.174566,
     "end_time": "2020-11-20T15:12:15.396935",
     "exception": false,
     "start_time": "2020-11-20T15:12:10.222369",
     "status": "completed"
    },
    "tags": []
   },
   "outputs": [],
   "source": [
    "import os\n",
    "import numpy as np\n",
    "import pandas as pd\n",
    "import tensorflow as tf\n",
    "import tensorflow.keras as keras\n",
    "import tensorflow.keras.layers as layers\n",
    "from tensorflow.keras import initializers\n",
    "import tensorflow.keras.backend as K\n",
    "from sklearn.pipeline import Pipeline\n",
    "from sklearn.preprocessing import OneHotEncoder,StandardScaler\n",
    "from sklearn.base import BaseEstimator, TransformerMixin\n",
    "from sklearn.compose import ColumnTransformer\n",
    "from tensorflow.keras.wrappers.scikit_learn import KerasClassifier\n",
    "from sklearn.model_selection import GridSearchCV,cross_val_score"
   ]
  },
  {
   "cell_type": "markdown",
   "metadata": {
    "papermill": {
     "duration": 0.024082,
     "end_time": "2020-11-20T15:12:15.448644",
     "exception": false,
     "start_time": "2020-11-20T15:12:15.424562",
     "status": "completed"
    },
    "tags": []
   },
   "source": [
    "# Set Environment"
   ]
  },
  {
   "cell_type": "code",
   "execution_count": 2,
   "metadata": {
    "execution": {
     "iopub.execute_input": "2020-11-20T15:12:16.383869Z",
     "iopub.status.busy": "2020-11-20T15:12:16.379133Z",
     "iopub.status.idle": "2020-11-20T15:12:16.395008Z",
     "shell.execute_reply": "2020-11-20T15:12:16.394489Z"
    },
    "papermill": {
     "duration": 0.913826,
     "end_time": "2020-11-20T15:12:16.395117",
     "exception": false,
     "start_time": "2020-11-20T15:12:15.481291",
     "status": "completed"
    },
    "tags": []
   },
   "outputs": [
    {
     "name": "stdout",
     "output_type": "stream",
     "text": [
      "Num GPUs Available:  1\n"
     ]
    },
    {
     "data": {
      "text/plain": [
       "[PhysicalDevice(name='/physical_device:GPU:0', device_type='GPU')]"
      ]
     },
     "execution_count": 2,
     "metadata": {},
     "output_type": "execute_result"
    }
   ],
   "source": [
    "os.environ['TF_CPP_MIN_LOG_LEVEL'] = '2'\n",
    "print(\"Num GPUs Available: \", len(tf.config.experimental.list_physical_devices('GPU')))\n",
    "tf.config.experimental.list_physical_devices('GPU') "
   ]
  },
  {
   "cell_type": "markdown",
   "metadata": {
    "papermill": {
     "duration": 0.017325,
     "end_time": "2020-11-20T15:12:16.431059",
     "exception": false,
     "start_time": "2020-11-20T15:12:16.413734",
     "status": "completed"
    },
    "tags": []
   },
   "source": [
    "# Data-set Loading"
   ]
  },
  {
   "cell_type": "code",
   "execution_count": 3,
   "metadata": {
    "execution": {
     "iopub.execute_input": "2020-11-20T15:12:16.482759Z",
     "iopub.status.busy": "2020-11-20T15:12:16.481815Z",
     "iopub.status.idle": "2020-11-20T15:12:21.919429Z",
     "shell.execute_reply": "2020-11-20T15:12:21.918355Z"
    },
    "papermill": {
     "duration": 5.468078,
     "end_time": "2020-11-20T15:12:21.919550",
     "exception": false,
     "start_time": "2020-11-20T15:12:16.451472",
     "status": "completed"
    },
    "tags": []
   },
   "outputs": [],
   "source": [
    "df_train = pd.read_csv('../input/lish-moa/train_features.csv')\n",
    "df_test = pd.read_csv('../input/lish-moa/test_features.csv')\n",
    "df_train_terget = pd.read_csv(\"../input/lish-moa/train_targets_scored.csv\")"
   ]
  },
  {
   "cell_type": "code",
   "execution_count": 4,
   "metadata": {
    "execution": {
     "iopub.execute_input": "2020-11-20T15:12:21.964800Z",
     "iopub.status.busy": "2020-11-20T15:12:21.963490Z",
     "iopub.status.idle": "2020-11-20T15:12:22.183790Z",
     "shell.execute_reply": "2020-11-20T15:12:22.183197Z"
    },
    "papermill": {
     "duration": 0.247307,
     "end_time": "2020-11-20T15:12:22.183908",
     "exception": false,
     "start_time": "2020-11-20T15:12:21.936601",
     "status": "completed"
    },
    "tags": []
   },
   "outputs": [],
   "source": [
    "train = pd.merge(df_train,df_train_terget, how='inner',on='sig_id')\n",
    "X_train = train[df_train.columns[1:]]\n",
    "Y_train = train[df_train_terget.columns[1:]]"
   ]
  },
  {
   "cell_type": "markdown",
   "metadata": {
    "papermill": {
     "duration": 0.016516,
     "end_time": "2020-11-20T15:12:22.217483",
     "exception": false,
     "start_time": "2020-11-20T15:12:22.200967",
     "status": "completed"
    },
    "tags": []
   },
   "source": [
    "# DATA Pre-Processing"
   ]
  },
  {
   "cell_type": "code",
   "execution_count": 5,
   "metadata": {
    "execution": {
     "iopub.execute_input": "2020-11-20T15:12:22.311611Z",
     "iopub.status.busy": "2020-11-20T15:12:22.310626Z",
     "iopub.status.idle": "2020-11-20T15:12:24.523798Z",
     "shell.execute_reply": "2020-11-20T15:12:24.523240Z"
    },
    "papermill": {
     "duration": 2.289227,
     "end_time": "2020-11-20T15:12:24.523907",
     "exception": false,
     "start_time": "2020-11-20T15:12:22.234680",
     "status": "completed"
    },
    "tags": []
   },
   "outputs": [],
   "source": [
    "num_cols = list(df_train.describe().columns)\n",
    "\n",
    "non_num_cols = [ ]\n",
    "for i in df_train.columns[1:]:\n",
    "    if i not in num_cols:\n",
    "        non_num_cols.append(i)\n",
    "\n",
    "# for i in non_num_cols:\n",
    "#        print(df_train[i].value_counts())"
   ]
  },
  {
   "cell_type": "code",
   "execution_count": 6,
   "metadata": {
    "execution": {
     "iopub.execute_input": "2020-11-20T15:12:24.563022Z",
     "iopub.status.busy": "2020-11-20T15:12:24.562393Z",
     "iopub.status.idle": "2020-11-20T15:12:24.566387Z",
     "shell.execute_reply": "2020-11-20T15:12:24.565901Z"
    },
    "papermill": {
     "duration": 0.02529,
     "end_time": "2020-11-20T15:12:24.566477",
     "exception": false,
     "start_time": "2020-11-20T15:12:24.541187",
     "status": "completed"
    },
    "tags": []
   },
   "outputs": [],
   "source": [
    " columns = [i for i in range(877)]"
   ]
  },
  {
   "cell_type": "code",
   "execution_count": 7,
   "metadata": {
    "execution": {
     "iopub.execute_input": "2020-11-20T15:12:24.607894Z",
     "iopub.status.busy": "2020-11-20T15:12:24.606156Z",
     "iopub.status.idle": "2020-11-20T15:12:24.608604Z",
     "shell.execute_reply": "2020-11-20T15:12:24.609124Z"
    },
    "papermill": {
     "duration": 0.025443,
     "end_time": "2020-11-20T15:12:24.609237",
     "exception": false,
     "start_time": "2020-11-20T15:12:24.583794",
     "status": "completed"
    },
    "tags": []
   },
   "outputs": [],
   "source": [
    "columns_transformer1 = ColumnTransformer(\n",
    "    transformers=[\n",
    "        ('encoder',OneHotEncoder(sparse=False),non_num_cols)\n",
    "    ],\n",
    "    remainder='passthrough'\n",
    "    )\n",
    "columns_transformer2 = ColumnTransformer(\n",
    "    transformers=[\n",
    "        ('nomalizer',StandardScaler(),columns)\n",
    "    ],\n",
    "    remainder='passthrough'\n",
    "    )"
   ]
  },
  {
   "cell_type": "code",
   "execution_count": 8,
   "metadata": {
    "execution": {
     "iopub.execute_input": "2020-11-20T15:12:24.647239Z",
     "iopub.status.busy": "2020-11-20T15:12:24.646621Z",
     "iopub.status.idle": "2020-11-20T15:12:24.650950Z",
     "shell.execute_reply": "2020-11-20T15:12:24.650396Z"
    },
    "papermill": {
     "duration": 0.024399,
     "end_time": "2020-11-20T15:12:24.651046",
     "exception": false,
     "start_time": "2020-11-20T15:12:24.626647",
     "status": "completed"
    },
    "tags": []
   },
   "outputs": [],
   "source": [
    "# X_train = pd.DataFrame(columns_transformer1.fit_transform(X_train))\n",
    "# X_train = pd.DataFrame(columns_transformer2.fit_transform(X_train))"
   ]
  },
  {
   "cell_type": "code",
   "execution_count": 9,
   "metadata": {
    "execution": {
     "iopub.execute_input": "2020-11-20T15:12:24.691927Z",
     "iopub.status.busy": "2020-11-20T15:12:24.690159Z",
     "iopub.status.idle": "2020-11-20T15:12:24.692561Z",
     "shell.execute_reply": "2020-11-20T15:12:24.693048Z"
    },
    "papermill": {
     "duration": 0.024841,
     "end_time": "2020-11-20T15:12:24.693159",
     "exception": false,
     "start_time": "2020-11-20T15:12:24.668318",
     "status": "completed"
    },
    "tags": []
   },
   "outputs": [],
   "source": [
    "# x.describe()"
   ]
  },
  {
   "cell_type": "markdown",
   "metadata": {
    "papermill": {
     "duration": 0.01724,
     "end_time": "2020-11-20T15:12:24.727739",
     "exception": false,
     "start_time": "2020-11-20T15:12:24.710499",
     "status": "completed"
    },
    "tags": []
   },
   "source": [
    "# Construct Model"
   ]
  },
  {
   "cell_type": "code",
   "execution_count": 10,
   "metadata": {
    "execution": {
     "iopub.execute_input": "2020-11-20T15:12:24.769146Z",
     "iopub.status.busy": "2020-11-20T15:12:24.768398Z",
     "iopub.status.idle": "2020-11-20T15:12:24.772375Z",
     "shell.execute_reply": "2020-11-20T15:12:24.771841Z"
    },
    "papermill": {
     "duration": 0.027375,
     "end_time": "2020-11-20T15:12:24.772468",
     "exception": false,
     "start_time": "2020-11-20T15:12:24.745093",
     "status": "completed"
    },
    "tags": []
   },
   "outputs": [],
   "source": [
    "num_class = 206\n",
    "input_shape = 877\n",
    "l_rate = 0.01\n",
    "batch_size = 64\n",
    "fully_connected_units=[1024,512]\n",
    "kernel_initializer = initializers.GlorotNormal()\n",
    "bias_initializer = initializers.Zeros()\n",
    "l2_regulizer = keras.regularizers.l2()\n",
    "l1_regulaizer = keras.regularizers.l1()"
   ]
  },
  {
   "cell_type": "code",
   "execution_count": 11,
   "metadata": {
    "execution": {
     "iopub.execute_input": "2020-11-20T15:12:24.816441Z",
     "iopub.status.busy": "2020-11-20T15:12:24.815115Z",
     "iopub.status.idle": "2020-11-20T15:12:24.817800Z",
     "shell.execute_reply": "2020-11-20T15:12:24.818303Z"
    },
    "papermill": {
     "duration": 0.028023,
     "end_time": "2020-11-20T15:12:24.818427",
     "exception": false,
     "start_time": "2020-11-20T15:12:24.790404",
     "status": "completed"
    },
    "tags": []
   },
   "outputs": [],
   "source": [
    "p_min = 0.001\n",
    "p_max = 0.999\n",
    "def logloss(y_true,y_pred):\n",
    "    y_pred = tf.clip_by_value(y_pred,p_min,p_max)\n",
    "    return -K.mean(y_true*K.log(y_pred) + (1-y_true)*K.log(1-y_pred))\n",
    "\n",
    "        "
   ]
  },
  {
   "cell_type": "code",
   "execution_count": 12,
   "metadata": {
    "execution": {
     "iopub.execute_input": "2020-11-20T15:12:24.867887Z",
     "iopub.status.busy": "2020-11-20T15:12:24.866134Z",
     "iopub.status.idle": "2020-11-20T15:12:24.868681Z",
     "shell.execute_reply": "2020-11-20T15:12:24.869144Z"
    },
    "papermill": {
     "duration": 0.031833,
     "end_time": "2020-11-20T15:12:24.869259",
     "exception": false,
     "start_time": "2020-11-20T15:12:24.837426",
     "status": "completed"
    },
    "tags": []
   },
   "outputs": [],
   "source": [
    "def MyModel(optimizer=keras.optimizers.Adam,l_rate=1e-3,inter_activation='selu'):\n",
    "    '''\n",
    "    args:\n",
    "            optimizer : keras optimizers\n",
    "            l_rate : learning rate\n",
    "            inter_activation : activation fuction applied in hidden layer\n",
    "    '''\n",
    "    \n",
    "    inputs = layers.Input(shape=(877))\n",
    "    x = inputs\n",
    "    x1 = layers.Dense(units=512,activation=inter_activation)(x)\n",
    "    x2 = layers.Dense(units=512,activation=inter_activation)(x)\n",
    "    x = tf.concat([x1,x2],axis=1)\n",
    "    x3 = layers.Dense(units=512,activation=inter_activation)(x)\n",
    "    x = tf.concat([x1,x3],axis=1)\n",
    "    x = layers.Dense(units=512,activation=inter_activation)(x)\n",
    "    x = layers.BatchNormalization()(x)\n",
    "    y = layers.Dense(kernel_regularizer=l2_regulizer,units=num_class,activation='sigmoid')(x)    \n",
    "    model = keras.Model(inputs=inputs,outputs=y)\n",
    "    model.compile(optimizer=optimizer(l_rate),loss=keras.losses.BinaryCrossentropy(),metrics=['binary_crossentropy'],)\n",
    "    \n",
    "    return model"
   ]
  },
  {
   "cell_type": "code",
   "execution_count": 13,
   "metadata": {
    "execution": {
     "iopub.execute_input": "2020-11-20T15:12:24.909529Z",
     "iopub.status.busy": "2020-11-20T15:12:24.908948Z",
     "iopub.status.idle": "2020-11-20T15:12:24.913388Z",
     "shell.execute_reply": "2020-11-20T15:12:24.912840Z"
    },
    "papermill": {
     "duration": 0.026436,
     "end_time": "2020-11-20T15:12:24.913481",
     "exception": false,
     "start_time": "2020-11-20T15:12:24.887045",
     "status": "completed"
    },
    "tags": []
   },
   "outputs": [],
   "source": [
    "preprocessor = Pipeline(steps=\n",
    "                     [\n",
    "                         ('encoder',columns_transformer1),\n",
    "                         ('normalizer',columns_transformer2)\n",
    "                     ])"
   ]
  },
  {
   "cell_type": "code",
   "execution_count": 14,
   "metadata": {
    "execution": {
     "iopub.execute_input": "2020-11-20T15:12:24.958253Z",
     "iopub.status.busy": "2020-11-20T15:12:24.956655Z",
     "iopub.status.idle": "2020-11-20T15:12:24.959315Z",
     "shell.execute_reply": "2020-11-20T15:12:24.959814Z"
    },
    "papermill": {
     "duration": 0.028449,
     "end_time": "2020-11-20T15:12:24.959923",
     "exception": false,
     "start_time": "2020-11-20T15:12:24.931474",
     "status": "completed"
    },
    "tags": []
   },
   "outputs": [],
   "source": [
    "def train_test_model(X_train,Y_train,batch_size=32,epochs=10,validation_split=0.1,call_backs=None,\n",
    "                     optimizer=keras.optimizers.Adam,l_rate=1e-3,inter_activation='selu',**args):\n",
    "    '''\n",
    "    args:\n",
    "            X_train: X\n",
    "            Y_train: labels\n",
    "            batch_size: size of the batch(defalut 32)\n",
    "            epochs: number of epochs to be trained\n",
    "            validation_split : fraction of validation set from X_train\n",
    "            call_backs : callbacks\n",
    "            optimizer : keras optimizers\n",
    "            l_rate : learning rate\n",
    "            inter_activation : activation fuction applied in hidden layer\n",
    "            **agrs: any other param for fit method\n",
    "    '''\n",
    "    model = MyModel(optimizer=optimizer,l_rate=l_rate,inter_activation=inter_activation)\n",
    "    history = model.fit(X_train,Y_train,batch_size=batch_size,epochs=epochs,validation_split=validation_split,\n",
    "                        callbacks=call_backs,**args)\n",
    "    \n",
    "    return history,model        "
   ]
  },
  {
   "cell_type": "code",
   "execution_count": 15,
   "metadata": {
    "_kg_hide-output": true,
    "execution": {
     "iopub.execute_input": "2020-11-20T15:12:25.012610Z",
     "iopub.status.busy": "2020-11-20T15:12:25.004361Z",
     "iopub.status.idle": "2020-11-20T15:13:20.559886Z",
     "shell.execute_reply": "2020-11-20T15:13:20.560471Z"
    },
    "papermill": {
     "duration": 55.582162,
     "end_time": "2020-11-20T15:13:20.560680",
     "exception": false,
     "start_time": "2020-11-20T15:12:24.978518",
     "status": "completed"
    },
    "tags": []
   },
   "outputs": [
    {
     "name": "stdout",
     "output_type": "stream",
     "text": [
      "Epoch 1/100\n",
      "670/670 - 2s - loss: 0.4284 - binary_crossentropy: 0.2255 - val_loss: 0.1603 - val_binary_crossentropy: 0.0833\n",
      "Epoch 2/100\n",
      "670/670 - 2s - loss: 0.1262 - binary_crossentropy: 0.0647 - val_loss: 0.1024 - val_binary_crossentropy: 0.0522\n",
      "Epoch 3/100\n",
      "670/670 - 2s - loss: 0.0882 - binary_crossentropy: 0.0454 - val_loss: 0.0777 - val_binary_crossentropy: 0.0412\n",
      "Epoch 4/100\n",
      "670/670 - 2s - loss: 0.0688 - binary_crossentropy: 0.0365 - val_loss: 0.0622 - val_binary_crossentropy: 0.0334\n",
      "Epoch 5/100\n",
      "670/670 - 2s - loss: 0.0566 - binary_crossentropy: 0.0313 - val_loss: 0.0518 - val_binary_crossentropy: 0.0296\n",
      "Epoch 6/100\n",
      "670/670 - 2s - loss: 0.0482 - binary_crossentropy: 0.0279 - val_loss: 0.0446 - val_binary_crossentropy: 0.0265\n",
      "Epoch 7/100\n",
      "670/670 - 2s - loss: 0.0419 - binary_crossentropy: 0.0254 - val_loss: 0.0394 - val_binary_crossentropy: 0.0244\n",
      "Epoch 8/100\n",
      "670/670 - 3s - loss: 0.0370 - binary_crossentropy: 0.0236 - val_loss: 0.0350 - val_binary_crossentropy: 0.0227\n",
      "Epoch 9/100\n",
      "670/670 - 2s - loss: 0.0333 - binary_crossentropy: 0.0222 - val_loss: 0.0319 - val_binary_crossentropy: 0.0219\n",
      "Epoch 10/100\n",
      "670/670 - 2s - loss: 0.0303 - binary_crossentropy: 0.0210 - val_loss: 0.0291 - val_binary_crossentropy: 0.0208\n",
      "Epoch 11/100\n",
      "670/670 - 2s - loss: 0.0280 - binary_crossentropy: 0.0201 - val_loss: 0.0272 - val_binary_crossentropy: 0.0198\n",
      "Epoch 12/100\n",
      "670/670 - 2s - loss: 0.0261 - binary_crossentropy: 0.0193 - val_loss: 0.0261 - val_binary_crossentropy: 0.0195\n",
      "Epoch 13/100\n",
      "670/670 - 2s - loss: 0.0246 - binary_crossentropy: 0.0187 - val_loss: 0.0248 - val_binary_crossentropy: 0.0191\n",
      "Epoch 14/100\n",
      "670/670 - 2s - loss: 0.0234 - binary_crossentropy: 0.0180 - val_loss: 0.0234 - val_binary_crossentropy: 0.0184\n",
      "Epoch 15/100\n",
      "670/670 - 2s - loss: 0.0224 - binary_crossentropy: 0.0175 - val_loss: 0.0227 - val_binary_crossentropy: 0.0182\n",
      "Epoch 16/100\n",
      "670/670 - 2s - loss: 0.0216 - binary_crossentropy: 0.0170 - val_loss: 0.0225 - val_binary_crossentropy: 0.0179\n",
      "Epoch 17/100\n",
      "670/670 - 2s - loss: 0.0208 - binary_crossentropy: 0.0164 - val_loss: 0.0224 - val_binary_crossentropy: 0.0181\n",
      "Epoch 18/100\n",
      "670/670 - 2s - loss: 0.0202 - binary_crossentropy: 0.0160 - val_loss: 0.0221 - val_binary_crossentropy: 0.0179\n",
      "Epoch 19/100\n",
      "670/670 - 2s - loss: 0.0197 - binary_crossentropy: 0.0155 - val_loss: 0.0221 - val_binary_crossentropy: 0.0178\n",
      "Epoch 20/100\n",
      "670/670 - 2s - loss: 0.0192 - binary_crossentropy: 0.0150 - val_loss: 0.0215 - val_binary_crossentropy: 0.0177\n",
      "Epoch 21/100\n",
      "670/670 - 2s - loss: 0.0188 - binary_crossentropy: 0.0146 - val_loss: 0.0218 - val_binary_crossentropy: 0.0176\n",
      "Epoch 22/100\n",
      "670/670 - 2s - loss: 0.0183 - binary_crossentropy: 0.0142 - val_loss: 0.0221 - val_binary_crossentropy: 0.0179\n",
      "Epoch 23/100\n",
      "670/670 - 3s - loss: 0.0180 - binary_crossentropy: 0.0138 - val_loss: 0.0217 - val_binary_crossentropy: 0.0177\n"
     ]
    }
   ],
   "source": [
    "callback = tf.keras.callbacks.EarlyStopping(patience=3)\n",
    "X = preprocessor.fit_transform(X_train)\n",
    "history,model = train_test_model(X,Y_train,call_backs=[callback],inter_activation='selu',epochs=100,**{'verbose':2})"
   ]
  },
  {
   "cell_type": "code",
   "execution_count": 16,
   "metadata": {
    "execution": {
     "iopub.execute_input": "2020-11-20T15:13:20.635429Z",
     "iopub.status.busy": "2020-11-20T15:13:20.634795Z",
     "iopub.status.idle": "2020-11-20T15:13:20.638558Z",
     "shell.execute_reply": "2020-11-20T15:13:20.639218Z"
    },
    "papermill": {
     "duration": 0.043123,
     "end_time": "2020-11-20T15:13:20.639343",
     "exception": false,
     "start_time": "2020-11-20T15:13:20.596220",
     "status": "completed"
    },
    "tags": []
   },
   "outputs": [],
   "source": [
    "import matplotlib.pyplot as plt"
   ]
  },
  {
   "cell_type": "code",
   "execution_count": 17,
   "metadata": {
    "execution": {
     "iopub.execute_input": "2020-11-20T15:13:20.715057Z",
     "iopub.status.busy": "2020-11-20T15:13:20.714433Z",
     "iopub.status.idle": "2020-11-20T15:13:20.934303Z",
     "shell.execute_reply": "2020-11-20T15:13:20.933433Z"
    },
    "papermill": {
     "duration": 0.259195,
     "end_time": "2020-11-20T15:13:20.934426",
     "exception": false,
     "start_time": "2020-11-20T15:13:20.675231",
     "status": "completed"
    },
    "tags": []
   },
   "outputs": [
    {
     "data": {
      "image/png": "[encoded data removed]",
      "text/plain": [
       "<Figure size 432x288 with 1 Axes>"
      ]
     },
     "metadata": {
      "needs_background": "light"
     },
     "output_type": "display_data"
    }
   ],
   "source": [
    "plt.figure()\n",
    "plt.plot(history.history['loss'])\n",
    "plt.plot(history.history['val_loss'])\n",
    "plt.legend(['Training Loss', 'Validation Loss'])\n",
    "plt.show()"
   ]
  },
  {
   "cell_type": "code",
   "execution_count": 18,
   "metadata": {
    "execution": {
     "iopub.execute_input": "2020-11-20T15:13:21.023907Z",
     "iopub.status.busy": "2020-11-20T15:13:21.022919Z",
     "iopub.status.idle": "2020-11-20T15:13:21.035407Z",
     "shell.execute_reply": "2020-11-20T15:13:21.034833Z"
    },
    "papermill": {
     "duration": 0.061515,
     "end_time": "2020-11-20T15:13:21.035519",
     "exception": false,
     "start_time": "2020-11-20T15:13:20.974004",
     "status": "completed"
    },
    "tags": []
   },
   "outputs": [
    {
     "name": "stdout",
     "output_type": "stream",
     "text": [
      "Model: \"functional_1\"\n",
      "__________________________________________________________________________________________________\n",
      "Layer (type)                    Output Shape         Param #     Connected to                     \n",
      "==================================================================================================\n",
      "input_1 (InputLayer)            [(None, 877)]        0                                            \n",
      "__________________________________________________________________________________________________\n",
      "dense (Dense)                   (None, 512)          449536      input_1[0][0]                    \n",
      "__________________________________________________________________________________________________\n",
      "dense_1 (Dense)                 (None, 512)          449536      input_1[0][0]                    \n",
      "__________________________________________________________________________________________________\n",
      "tf_op_layer_concat (TensorFlowO [(None, 1024)]       0           dense[0][0]                      \n",
      "                                                                 dense_1[0][0]                    \n",
      "__________________________________________________________________________________________________\n",
      "dense_2 (Dense)                 (None, 512)          524800      tf_op_layer_concat[0][0]         \n",
      "__________________________________________________________________________________________________\n",
      "tf_op_layer_concat_1 (TensorFlo [(None, 1024)]       0           dense[0][0]                      \n",
      "                                                                 dense_2[0][0]                    \n",
      "__________________________________________________________________________________________________\n",
      "dense_3 (Dense)                 (None, 512)          524800      tf_op_layer_concat_1[0][0]       \n",
      "__________________________________________________________________________________________________\n",
      "batch_normalization (BatchNorma (None, 512)          2048        dense_3[0][0]                    \n",
      "__________________________________________________________________________________________________\n",
      "dense_4 (Dense)                 (None, 206)          105678      batch_normalization[0][0]        \n",
      "==================================================================================================\n",
      "Total params: 2,056,398\n",
      "Trainable params: 2,055,374\n",
      "Non-trainable params: 1,024\n",
      "__________________________________________________________________________________________________\n"
     ]
    }
   ],
   "source": [
    "model.summary()"
   ]
  },
  {
   "cell_type": "code",
   "execution_count": 19,
   "metadata": {
    "execution": {
     "iopub.execute_input": "2020-11-20T15:13:21.118439Z",
     "iopub.status.busy": "2020-11-20T15:13:21.117348Z",
     "iopub.status.idle": "2020-11-20T15:13:23.898402Z",
     "shell.execute_reply": "2020-11-20T15:13:23.897834Z"
    },
    "papermill": {
     "duration": 2.82638,
     "end_time": "2020-11-20T15:13:23.898527",
     "exception": false,
     "start_time": "2020-11-20T15:13:21.072147",
     "status": "completed"
    },
    "tags": []
   },
   "outputs": [],
   "source": [
    "sample_sub = pd.read_csv('../input/lish-moa/sample_submission.csv')\n",
    "submission_predict = sample_sub.copy()\n",
    "submission_predict.loc[:, Y_train.columns] = 0\n",
    "submission_predict.loc[:, Y_train.columns] += model.predict(preprocessor.transform(df_test[df_train.columns[1:]]))\n",
    "submission_predict.to_csv('submission.csv', index = False)"
   ]
  },
  {
   "cell_type": "code",
   "execution_count": null,
   "metadata": {
    "papermill": {
     "duration": 0.037267,
     "end_time": "2020-11-20T15:13:23.973475",
     "exception": false,
     "start_time": "2020-11-20T15:13:23.936208",
     "status": "completed"
    },
    "tags": []
   },
   "outputs": [],
   "source": []
  }
 ],
 "metadata": {
  "kernelspec": {
   "display_name": "Python 3",
   "language": "python",
   "name": "python3"
  },
  "language_info": {
   "codemirror_mode": {
    "name": "ipython",
    "version": 3
   },
   "file_extension": ".py",
   "mimetype": "text/x-python",
   "name": "python",
   "nbconvert_exporter": "python",
   "pygments_lexer": "ipython3",
   "version": "3.8.10"
  },
  "papermill": {
   "duration": 78.678141,
   "end_time": "2020-11-20T15:13:25.073769",
   "environment_variables": {},
   "exception": null,
   "input_path": "__notebook__.ipynb",
   "output_path": "__notebook__.ipynb",
   "parameters": {},
   "start_time": "2020-11-20T15:12:06.395628",
   "version": "2.1.0"
  }
 },
 "nbformat": 4,
 "nbformat_minor": 4
}
